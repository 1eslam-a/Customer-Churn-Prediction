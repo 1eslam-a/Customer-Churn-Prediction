{
 "cells": [
  {
   "cell_type": "code",
   "execution_count": 2,
   "id": "48d03bab",
   "metadata": {},
   "outputs": [],
   "source": [
    "import pandas as pd\n",
    "import numpy as np\n",
    "from sklearn.compose import ColumnTransformer\n",
    "from sklearn.preprocessing import OneHotEncoder, StandardScaler, LabelEncoder\n",
    "from imblearn.pipeline import Pipeline  # ✅ Switched to imblearn Pipeline\n",
    "from sklearn.impute import SimpleImputer\n",
    "from sklearn.model_selection import train_test_split\n",
    "from sklearn.linear_model import LogisticRegression\n",
    "from sklearn.neighbors import KNeighborsClassifier\n",
    "from sklearn.svm import SVC\n",
    "from sklearn.metrics import classification_report, confusion_matrix, recall_score\n",
    "from imblearn.over_sampling import SMOTE  # ✅ Replaced SMOTEENN with SMOTE\n",
    "import joblib\n",
    "import os"
   ]
  },
  {
   "cell_type": "code",
   "execution_count": 3,
   "id": "b13df06a",
   "metadata": {},
   "outputs": [],
   "source": [
    "# تحميل البيانات\n",
    "data = pd.read_csv('../Data/es.csv')"
   ]
  },
  {
   "cell_type": "code",
   "execution_count": 4,
   "id": "59516129",
   "metadata": {},
   "outputs": [],
   "source": [
    "# إزالة عمود معرف العميل\n",
    "data.drop('customerID', axis=1, inplace=True)"
   ]
  },
  {
   "cell_type": "code",
   "execution_count": 5,
   "id": "a21d0892",
   "metadata": {},
   "outputs": [],
   "source": [
    "# تحويل TotalCharges إلى رقمية ومعالجة القيم المفقودة\n",
    "data['TotalCharges'] = pd.to_numeric(data['TotalCharges'], errors='coerce')\n",
    "data['TotalCharges'] = data['TotalCharges'].fillna(data['TotalCharges'].median())"
   ]
  },
  {
   "cell_type": "code",
   "execution_count": 6,
   "id": "604d0933",
   "metadata": {},
   "outputs": [],
   "source": [
    "# فصل المتغير الهدف\n",
    "y = data['Churn']"
   ]
  },
  {
   "cell_type": "code",
   "execution_count": 7,
   "id": "3461ed84",
   "metadata": {},
   "outputs": [],
   "source": [
    "# ترميز المتغير الهدف\n",
    "le_y = LabelEncoder()\n",
    "y = le_y.fit_transform(y)"
   ]
  },
  {
   "cell_type": "code",
   "execution_count": 8,
   "id": "9ec609ae",
   "metadata": {},
   "outputs": [],
   "source": [
    "# حذف العمود الهدف من الميزات\n",
    "X = data.drop('Churn', axis=1)"
   ]
  },
  {
   "cell_type": "code",
   "execution_count": 9,
   "id": "890146ee",
   "metadata": {},
   "outputs": [],
   "source": [
    "# تحديد الأعمدة الثنائية والمتعددة والفئوية والرقمية\n",
    "binary_cols = [col for col in X.select_dtypes(include='object').columns if X[col].nunique() == 2]\n",
    "multicat_cols = [col for col in X.select_dtypes(include='object').columns if X[col].nunique() > 2]\n",
    "numerical_cols = X.select_dtypes(include=['int64', 'float64']).columns.tolist()"
   ]
  },
  {
   "cell_type": "code",
   "execution_count": 10,
   "id": "da65204c",
   "metadata": {},
   "outputs": [],
   "source": [
    "# دالة لترميز الأعمدة الثنائية\n",
    "def binary_encode(df, columns):\n",
    "    for col in columns:\n",
    "        le = LabelEncoder()\n",
    "        df[col] = le.fit_transform(df[col])\n",
    "    return df"
   ]
  },
  {
   "cell_type": "code",
   "execution_count": 11,
   "id": "a024e3c8",
   "metadata": {},
   "outputs": [],
   "source": [
    "# تطبيق الترميز\n",
    "X = binary_encode(X, binary_cols)"
   ]
  },
  {
   "cell_type": "code",
   "execution_count": 12,
   "id": "c4d2b9c2",
   "metadata": {},
   "outputs": [],
   "source": [
    "# إنشاء المحول العام للأعمدة\n",
    "preprocessor = ColumnTransformer(transformers=[\n",
    "    ('num', StandardScaler(), numerical_cols),\n",
    "    ('cat', OneHotEncoder(drop='first', sparse_output=False), multicat_cols)\n",
    "])"
   ]
  },
  {
   "cell_type": "code",
   "execution_count": 13,
   "id": "3d30afcf",
   "metadata": {},
   "outputs": [],
   "source": [
    "# تقسيم البيانات إلى تدريب واختبار\n",
    "X_train, X_test, y_train, y_test = train_test_split(\n",
    "    X, y, test_size=0.2, stratify=y, random_state=42\n",
    ")\n",
    "\n"
   ]
  },
  {
   "cell_type": "code",
   "execution_count": 14,
   "id": "8b2fdd3f",
   "metadata": {},
   "outputs": [],
   "source": [
    "# تعريف النماذج المستخدمة\n",
    "models = {\n",
    "    \"LogisticRegression\": LogisticRegression(class_weight={0: 1, 1: 2}, max_iter=1000, random_state=42),\n",
    "    \"KNN\": KNeighborsClassifier(n_neighbors=3),\n",
    "    \"SVM\": SVC(probability=True, class_weight={0: 1, 1: 2}, C=3.0, kernel='rbf', random_state=42)\n",
    "}\n"
   ]
  },
  {
   "cell_type": "code",
   "execution_count": 15,
   "id": "21300b81",
   "metadata": {},
   "outputs": [],
   "source": [
    "# دالة لإنشاء البايبلاين الكامل\n",
    "def build_pipeline(clf):\n",
    "    return Pipeline(steps=[\n",
    "        ('preprocessor', preprocessor),\n",
    "        ('balancer', SMOTE(random_state=42)),\n",
    "        ('classifier', clf)\n",
    "    ])\n"
   ]
  },
  {
   "cell_type": "code",
   "execution_count": 16,
   "id": "4e74f6f7",
   "metadata": {},
   "outputs": [],
   "source": [
    "# دالة لتدريب وتقييم النموذج\n",
    "def evaluate(model_name, threshold=0.5):\n",
    "    print(f\"\\n🔍 Evaluating: {model_name} with threshold={threshold}\")\n",
    "    pipeline = build_pipeline(models[model_name])\n",
    "    pipeline.fit(X_train, y_train)\n",
    "\n",
    "    # التنبؤ باحتمالات والتعديل على العتبة لو لزم\n",
    "    if threshold != 0.5 and hasattr(pipeline.named_steps['classifier'], 'predict_proba'):\n",
    "        y_train_probs = pipeline.predict_proba(X_train)[:, 1]\n",
    "        y_train_pred = (y_train_probs >= threshold).astype(int)\n",
    "    else:\n",
    "        y_train_pred = pipeline.predict(X_train)\n",
    "\n",
    "    # تقارير الأداء\n",
    "    print(\"📊 Confusion Matrix (Train):\")\n",
    "    print(confusion_matrix(y_train, y_train_pred))\n",
    "    print(\"📄 Classification Report (Train):\")\n",
    "    print(classification_report(y_train, y_train_pred))\n",
    "    print(\"🔁 Train Recall:\", recall_score(y_train, y_train_pred))\n",
    "\n",
    "    return pipeline\n"
   ]
  },
  {
   "cell_type": "code",
   "execution_count": 17,
   "id": "3c606031",
   "metadata": {},
   "outputs": [
    {
     "name": "stdout",
     "output_type": "stream",
     "text": [
      "\n",
      "🔍 Evaluating: LogisticRegression with threshold=0.4\n",
      "📊 Confusion Matrix (Train):\n",
      "[[2084 2055]\n",
      " [  89 1406]]\n",
      "📄 Classification Report (Train):\n",
      "              precision    recall  f1-score   support\n",
      "\n",
      "           0       0.96      0.50      0.66      4139\n",
      "           1       0.41      0.94      0.57      1495\n",
      "\n",
      "    accuracy                           0.62      5634\n",
      "   macro avg       0.68      0.72      0.61      5634\n",
      "weighted avg       0.81      0.62      0.64      5634\n",
      "\n",
      "🔁 Train Recall: 0.9404682274247491\n",
      "\n",
      "🔍 Evaluating: KNN with threshold=0.5\n",
      "📊 Confusion Matrix (Train):\n",
      "[[3488  651]\n",
      " [ 110 1385]]\n",
      "📄 Classification Report (Train):\n",
      "              precision    recall  f1-score   support\n",
      "\n",
      "           0       0.97      0.84      0.90      4139\n",
      "           1       0.68      0.93      0.78      1495\n",
      "\n",
      "    accuracy                           0.86      5634\n",
      "   macro avg       0.82      0.88      0.84      5634\n",
      "weighted avg       0.89      0.86      0.87      5634\n",
      "\n",
      "🔁 Train Recall: 0.9264214046822743\n",
      "\n",
      "🔍 Evaluating: SVM with threshold=0.5\n",
      "📊 Confusion Matrix (Train):\n",
      "[[2656 1483]\n",
      " [  89 1406]]\n",
      "📄 Classification Report (Train):\n",
      "              precision    recall  f1-score   support\n",
      "\n",
      "           0       0.97      0.64      0.77      4139\n",
      "           1       0.49      0.94      0.64      1495\n",
      "\n",
      "    accuracy                           0.72      5634\n",
      "   macro avg       0.73      0.79      0.71      5634\n",
      "weighted avg       0.84      0.72      0.74      5634\n",
      "\n",
      "🔁 Train Recall: 0.9404682274247491\n"
     ]
    }
   ],
   "source": [
    "# تجربة النماذج المختلفة\n",
    "log_model = evaluate(\"LogisticRegression\", threshold=0.4)\n",
    "knn_model = evaluate(\"KNN\")\n",
    "svm_model = evaluate(\"SVM\")\n"
   ]
  },
  {
   "cell_type": "code",
   "execution_count": 18,
   "id": "11c5d0e8",
   "metadata": {},
   "outputs": [
    {
     "name": "stdout",
     "output_type": "stream",
     "text": [
      "✅ Model and pipeline saved successfully.\n"
     ]
    }
   ],
   "source": [
    "# اختيار النموذج النهائي\n",
    "final_model = log_model  # يمكن تغييره حسب الأداء\n",
    "\n",
    "# حفظ النموذج والبيانات المساعدة\n",
    "os.makedirs(\"../Model\", exist_ok=True)\n",
    "os.makedirs(\"../Scaler\", exist_ok=True)\n",
    "joblib.dump(final_model, \"../Model/fraud_model.pkl\")\n",
    "joblib.dump(X.columns.tolist(), \"../Model/model_columns.pkl\")\n",
    "joblib.dump(le_y, \"../Model/target_encoder.pkl\")\n",
    "\n",
    "print(\"✅ Model and pipeline saved successfully.\")\n"
   ]
  }
 ],
 "metadata": {
  "kernelspec": {
   "display_name": "selenium",
   "language": "python",
   "name": "python3"
  },
  "language_info": {
   "codemirror_mode": {
    "name": "ipython",
    "version": 3
   },
   "file_extension": ".py",
   "mimetype": "text/x-python",
   "name": "python",
   "nbconvert_exporter": "python",
   "pygments_lexer": "ipython3",
   "version": "3.13.5"
  }
 },
 "nbformat": 4,
 "nbformat_minor": 5
}
